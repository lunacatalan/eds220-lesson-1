{
 "cells": [
  {
   "cell_type": "markdown",
   "id": "a7d12815-877a-4320-bb1e-9e1a6f01bc6a",
   "metadata": {},
   "source": [
    "# Objectives\n",
    "\n",
    "Review core `pandas` objects: `pandas.Series` and `pandas.DataFrame`\n",
    "\n",
    "# `pandas`\n",
    "- Python package to wrangle and analyze tabular data\n",
    "- built on top of NumPy\n",
    "- core tool for data analysis in Python"
   ]
  },
  {
   "cell_type": "code",
   "execution_count": 1,
   "id": "627ecdea-29e2-49b4-9020-a77ab5bc5ddc",
   "metadata": {
    "tags": []
   },
   "outputs": [],
   "source": [
    "# import pandas wiht standard abbreviation \n",
    "import pandas as pd\n",
    "\n",
    "# import numpy too!!\n",
    "import numpy as np"
   ]
  },
  {
   "cell_type": "markdown",
   "id": "812a7997-7cc0-4b21-a6db-b304cfa5d1af",
   "metadata": {},
   "source": [
    "# Series\n",
    "\n",
    "A `pandas.Series` :\n",
    "\n",
    "- is one of the core data structures in `pandas`\n",
    "- this is a 1D array of *indexed* data\n",
    "- will be the columns of the `pandas.DataFrame`\n",
    "\n",
    "# Creating a pandas Series\n",
    "\n",
    "Many ways to do this:\n",
    "For now we will be doing it this way...\n",
    "\n",
    "```\n",
    "s = pd.Series(data, index=index)\n",
    "```\n",
    "- `data` = numpy array (list of objects that can be converted to NumPy types)\n",
    "- `index` = list of indices of same length as data"
   ]
  },
  {
   "cell_type": "code",
   "execution_count": 3,
   "id": "09415019-cc52-484f-b3ff-68c547eddebf",
   "metadata": {
    "tags": []
   },
   "outputs": [],
   "source": [
    "# Ex: pandas series from a numy array\n",
    "\n",
    "#np.arange() function constructs an array of consecutive integers\n",
    "np.arange(3)"
   ]
  },
  {
   "cell_type": "code",
   "execution_count": 5,
   "id": "85137f2a-8ead-450f-b1e1-918315507fc7",
   "metadata": {
    "tags": []
   },
   "outputs": [],
   "source": [
    "# we can use this to create a pandas Series \n",
    "pd.Series(np.arange(3), \n",
    "          index=['a', 'b', 'c']) # label the rows"
   ]
  },
  {
   "cell_type": "markdown",
   "id": "67cda910-e5b4-4653-abe2-c204a96820d8",
   "metadata": {
    "tags": []
   },
   "source": [
    "Q: What kind of parameter is `index`?\n",
    "\n",
    "A: Optional paramter because there is a default value, but it can be overwritten. If we dont specify `index` the default is to start from 0.\n",
    "\n",
    "Example:"
   ]
  },
  {
   "cell_type": "code",
   "execution_count": 6,
   "id": "b2a24bc6-ec9e-442a-9418-8d4ff58c0ceb",
   "metadata": {
    "tags": []
   },
   "outputs": [],
   "source": [
    "# create a series from a list of strings with default index\n",
    "pd.Series(['yay', 'nope', 'woop', 'wow'])"
   ]
  },
  {
   "cell_type": "markdown",
   "id": "467dabf8-c8c0-4524-a809-72c4e0386739",
   "metadata": {
    "tags": []
   },
   "source": [
    "# Operations of series \n",
    "\n",
    "Arithmetic operations work on series and on most NumPy functions:\n",
    "\n",
    "Example:"
   ]
  },
  {
   "cell_type": "code",
   "execution_count": 11,
   "id": "23d4a74d-f7be-4996-89db-7f915718498f",
   "metadata": {
    "tags": []
   },
   "outputs": [],
   "source": [
    "# define a series\n",
    "s = pd.Series( [98, 73, 65], index = ['Andrea', 'Beth', 'Carolina'])\n",
    "print(s, '\\n') # leave empty line between the two outputs\n",
    "\n",
    "# divide each element in series by 10\n",
    "print( s/10 )"
   ]
  },
  {
   "cell_type": "markdown",
   "id": "8b3eb7c2-f3fc-406b-865d-2da0390d0ca4",
   "metadata": {
    "tags": []
   },
   "source": [
    "Example: create new series with `True`/`False` values indicating whether the elemetns in the series satisfy a condition or not. "
   ]
  },
  {
   "cell_type": "code",
   "execution_count": 13,
   "id": "46d3fdd4-bcd4-4ca2-9f9f-44939f4054b0",
   "metadata": {
    "tags": []
   },
   "outputs": [],
   "source": [
    "# create condition\n",
    "s > 70"
   ]
  },
  {
   "cell_type": "markdown",
   "id": "a3005507-793d-4e0d-b5b7-9702a9a1236e",
   "metadata": {
    "tags": []
   },
   "source": [
    "Using conditions on Series is key to selecting data from dataframes!!"
   ]
  },
  {
   "cell_type": "markdown",
   "id": "cbce4732-502d-4a57-bbd9-4c971f0360c0",
   "metadata": {
    "tags": []
   },
   "source": [
    "## Attributes and Methods\n",
    "\n",
    "Two examples about identifying missing values. \n",
    "- missing values in `pandas` are represented by `mp.NaN` aka not a number\n",
    "- `NaN` is a type of float (decimal) in numpy"
   ]
  },
  {
   "cell_type": "code",
   "execution_count": 16,
   "id": "648a7bcb-b7c9-4c44-9e29-11fd7d48ef9a",
   "metadata": {
    "tags": []
   },
   "outputs": [],
   "source": [
    "np.NaN\n",
    "\n",
    "type(np.NaN)"
   ]
  },
  {
   "cell_type": "code",
   "execution_count": 17,
   "id": "5899b624-d302-45b1-b796-2bd9275c981f",
   "metadata": {
    "tags": []
   },
   "outputs": [],
   "source": [
    "# series with NAs in it:\n",
    "s = pd.Series([1, 2, np.NaN, 4, np.NaN])\n",
    "s"
   ]
  },
  {
   "cell_type": "markdown",
   "id": "49871014-4edf-44b2-985c-81cafdb70fbe",
   "metadata": {
    "tags": []
   },
   "source": [
    "`hasnans` = attribute of pandas series, returns `True` if there are any NAs:"
   ]
  },
  {
   "cell_type": "code",
   "execution_count": 18,
   "id": "30e5982e-5d7b-4ba5-b35b-e3961f24acc3",
   "metadata": {
    "tags": []
   },
   "outputs": [],
   "source": [
    "# check if series has NAs\n",
    "s.hasnans"
   ]
  },
  {
   "cell_type": "markdown",
   "id": "5e70f882-ab4d-4020-baa2-7d2011f75d6f",
   "metadata": {
    "tags": []
   },
   "source": [
    "`isna()` = method of series, returning a series indicating which elements are NAs:"
   ]
  },
  {
   "cell_type": "code",
   "execution_count": 19,
   "id": "dfce2f07-9710-41f7-b29e-c3a8c9696209",
   "metadata": {
    "tags": []
   },
   "outputs": [],
   "source": [
    "s.isna()"
   ]
  },
  {
   "cell_type": "markdown",
   "id": "d558d04a-bd20-43c5-90ae-9f27955042ef",
   "metadata": {
    "tags": []
   },
   "source": [
    "`bool` : `True` or `False` are **boolean values**\n",
    "\n",
    "# Dataframes \n",
    "\n",
    "`pandas.DataFrame`:\n",
    "- most used object in `pandas`\n",
    "- use tabular data (like spreadsheet)\n",
    "- each column is a `pandas.Series`\n",
    "\n",
    "# Creating a `pandas.DataFrame`\n",
    "\n",
    "*Many ways to create a dataframe*. Example 1:\n",
    "\n",
    "Dictionaries = sets of key-value pairs:\n",
    "```\n",
    "{ key1 : value1\n",
    "  key2 : value2\n",
    "}\n",
    "```\n",
    "\n",
    "Think of `pd.DataFrame` as a dictionary where:\n",
    "- keys = column name\n",
    "- values = column values \n",
    "\n",
    "Create dataframe like this:"
   ]
  },
  {
   "cell_type": "code",
   "execution_count": 23,
   "id": "da2b489f-236a-4b55-8978-e7b9dda07f90",
   "metadata": {
    "tags": []
   },
   "outputs": [],
   "source": [
    "# initialize dictioanry with column data\n",
    "d = {\n",
    "    'col_name1' : np.arange(3),\n",
    "    'col_name2' : [4, 5.5, 6.3]\n",
    "}\n",
    "\n",
    "d"
   ]
  },
  {
   "cell_type": "code",
   "execution_count": 38,
   "id": "3e339b63-3526-4c7c-8c12-0b06b3b0d351",
   "metadata": {
    "tags": []
   },
   "outputs": [
    {
     "data": {
      "text/html": [
       "<div>\n",
       "<style scoped>\n",
       "    .dataframe tbody tr th:only-of-type {\n",
       "        vertical-align: middle;\n",
       "    }\n",
       "\n",
       "    .dataframe tbody tr th {\n",
       "        vertical-align: top;\n",
       "    }\n",
       "\n",
       "    .dataframe thead th {\n",
       "        text-align: right;\n",
       "    }\n",
       "</style>\n",
       "<table border=\"1\" class=\"dataframe\">\n",
       "  <thead>\n",
       "    <tr style=\"text-align: right;\">\n",
       "      <th></th>\n",
       "      <th>col_name1</th>\n",
       "      <th>col_name2</th>\n",
       "    </tr>\n",
       "  </thead>\n",
       "  <tbody>\n",
       "    <tr>\n",
       "      <th>0</th>\n",
       "      <td>0</td>\n",
       "      <td>4.0</td>\n",
       "    </tr>\n",
       "    <tr>\n",
       "      <th>1</th>\n",
       "      <td>1</td>\n",
       "      <td>5.5</td>\n",
       "    </tr>\n",
       "    <tr>\n",
       "      <th>2</th>\n",
       "      <td>2</td>\n",
       "      <td>6.3</td>\n",
       "    </tr>\n",
       "  </tbody>\n",
       "</table>\n",
       "</div>"
      ],
      "text/plain": [
       "   col_name1  col_name2\n",
       "0          0        4.0\n",
       "1          1        5.5\n",
       "2          2        6.3"
      ]
     },
     "execution_count": 38,
     "metadata": {},
     "output_type": "execute_result"
    }
   ],
   "source": [
    "# create a dataframe \n",
    "df = pd.DataFrame(d)\n",
    "\n",
    "df"
   ]
  },
  {
   "cell_type": "markdown",
   "id": "cafcfeed-2736-47ec-8f55-6086103cf7e2",
   "metadata": {
    "tags": []
   },
   "source": [
    "# In-place operations\n",
    "\n",
    "Rename the dataframe columns.\n",
    "\n",
    "Use a dataframe *method* called `rename`.\n",
    "\n",
    "`rename` takes dictionary as input.\n",
    "\n",
    "```\n",
    "{ 'col_1_old_name' : 'col_1_new_name',\n",
    "'col_2_old_name' : 'col_2_new_name'}\n",
    "\n",
    "```"
   ]
  },
  {
   "cell_type": "code",
   "execution_count": 39,
   "id": "cfc9a5b6-cadb-458d-b808-0a270c1c6c27",
   "metadata": {
    "tags": []
   },
   "outputs": [
    {
     "data": {
      "text/html": [
       "<div>\n",
       "<style scoped>\n",
       "    .dataframe tbody tr th:only-of-type {\n",
       "        vertical-align: middle;\n",
       "    }\n",
       "\n",
       "    .dataframe tbody tr th {\n",
       "        vertical-align: top;\n",
       "    }\n",
       "\n",
       "    .dataframe thead th {\n",
       "        text-align: right;\n",
       "    }\n",
       "</style>\n",
       "<table border=\"1\" class=\"dataframe\">\n",
       "  <thead>\n",
       "    <tr style=\"text-align: right;\">\n",
       "      <th></th>\n",
       "      <th>col_name1</th>\n",
       "      <th>col_name2</th>\n",
       "    </tr>\n",
       "  </thead>\n",
       "  <tbody>\n",
       "    <tr>\n",
       "      <th>0</th>\n",
       "      <td>0</td>\n",
       "      <td>4.0</td>\n",
       "    </tr>\n",
       "    <tr>\n",
       "      <th>1</th>\n",
       "      <td>1</td>\n",
       "      <td>5.5</td>\n",
       "    </tr>\n",
       "    <tr>\n",
       "      <th>2</th>\n",
       "      <td>2</td>\n",
       "      <td>6.3</td>\n",
       "    </tr>\n",
       "  </tbody>\n",
       "</table>\n",
       "</div>"
      ],
      "text/plain": [
       "   col_name1  col_name2\n",
       "0          0        4.0\n",
       "1          1        5.5\n",
       "2          2        6.3"
      ]
     },
     "execution_count": 39,
     "metadata": {},
     "output_type": "execute_result"
    }
   ],
   "source": [
    "# define new column names\n",
    "col_names = {\n",
    "    'col_name1' : 'col1',\n",
    "    'col_name2' : 'col2'\n",
    "}\n",
    "\n",
    "# rename using method\n",
    "df.rename(columns = col_names)\n",
    "\n",
    "df"
   ]
  },
  {
   "cell_type": "markdown",
   "id": "9998e8ca-aa2a-415d-90f7-463c970de948",
   "metadata": {
    "tags": []
   },
   "source": [
    "Take a look at the dataframe, have the column names been updated? No! \n",
    "\n",
    "`df.rename` doesnt change the column names because it happens *in place*, so it doesn't modify the object itself. Creates a new object as an output.\n",
    "\n",
    "Must assign output back to dataframe to change it:"
   ]
  },
  {
   "cell_type": "code",
   "execution_count": 40,
   "id": "139676cc-c5cd-4e50-929e-9152e5cd2ce8",
   "metadata": {
    "tags": []
   },
   "outputs": [],
   "source": [
    "df = df.rename(columns = col_names)\n",
    "\n",
    "df"
   ]
  },
  {
   "cell_type": "markdown",
   "id": "9f83a7a3-906c-408b-b409-a370527de3f0",
   "metadata": {
    "tags": []
   },
   "source": [
    "Alternatively, using `inplace = True` to modify in line. \n",
    "\n",
    "**Not recomended** to set `inplace = True`"
   ]
  }
 ],
 "metadata": {
  "kernelspec": {
   "display_name": "Anaconda 3 (Base)",
   "language": "python",
   "name": "base"
  },
  "language_info": {
   "codemirror_mode": {
    "name": "ipython",
    "version": 3
   },
   "file_extension": ".py",
   "mimetype": "text/x-python",
   "name": "python",
   "nbconvert_exporter": "python",
   "pygments_lexer": "ipython3",
   "version": "3.9.13"
  }
 },
 "nbformat": 4,
 "nbformat_minor": 5
}

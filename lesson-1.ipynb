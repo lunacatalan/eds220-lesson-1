{
 "cells": [
  {
   "cell_type": "markdown",
   "id": "26159674-ae23-44cd-95ef-e7014de9a42d",
   "metadata": {
    "tags": []
   },
   "source": [
    "# `numpy\n",
    "\n",
    "- core packages for numerical computing in Python \n",
    "- many packages are built on topy numpy\n",
    "- optimized for processing: faster due to memory access"
   ]
  },
  {
   "cell_type": "code",
   "execution_count": 4,
   "id": "6387da58-73f5-4904-ae9e-bbc8b3e3437e",
   "metadata": {
    "tags": []
   },
   "outputs": [],
   "source": [
    "# import Numpy with standard abbreviation \n",
    "import numpy as np"
   ]
  },
  {
   "cell_type": "markdown",
   "id": "bb2e113e-724e-47ec-a998-f2c7e6bb4a56",
   "metadata": {},
   "source": [
    "# Variables\n",
    "\n",
    "We can think about variables as a name we assign tp a partocular object in Python.\n",
    "\n",
    "For example..."
   ]
  },
  {
   "cell_type": "code",
   "execution_count": 5,
   "id": "630196d9-b487-4f80-9019-a509ce8eb0dd",
   "metadata": {
    "tags": []
   },
   "outputs": [],
   "source": [
    "# assign a small array to a variable 'a'\n",
    "\n",
    "a = np.array( [ [1, 1, 2], [3, 5, 8] ] )"
   ]
  },
  {
   "cell_type": "markdown",
   "id": "ef9c1c5f-81fe-4630-89cd-13043308dc10",
   "metadata": {},
   "source": [
    "When we run the cell, we store the variable and its value. \n",
    "\n",
    "Can see it in 2 ways:"
   ]
  },
  {
   "cell_type": "code",
   "execution_count": 6,
   "id": "450db8b6-8249-401f-87f8-3f4ba1de37a8",
   "metadata": {
    "tags": []
   },
   "outputs": [
    {
     "data": {
      "text/plain": [
       "array([[1, 1, 2],\n",
       "       [3, 5, 8]])"
      ]
     },
     "execution_count": 6,
     "metadata": {},
     "output_type": "execute_result"
    }
   ],
   "source": [
    "# way number 1: enter just the variable name\n",
    "a"
   ]
  },
  {
   "cell_type": "code",
   "execution_count": 7,
   "id": "1b102eda-ef02-4dac-adb8-357c22f8b264",
   "metadata": {
    "tags": []
   },
   "outputs": [
    {
     "name": "stdout",
     "output_type": "stream",
     "text": [
      "[[1 1 2]\n",
      " [3 5 8]]\n"
     ]
    }
   ],
   "source": [
    "# way 2: use print ()\n",
    "print(a)"
   ]
  },
  {
   "cell_type": "markdown",
   "id": "9f548588-a3a9-47ff-b001-2bdff1b4d5f4",
   "metadata": {},
   "source": [
    "## Naming variables \n",
    "\n",
    "We are going to use `snake_case` for naming variables.\n",
    "\n",
    "## Variables and objects\n",
    "\n",
    "**object**: encountered in Python documentation and tutorials. \n",
    "\n",
    "Can be thought of as... a bundle of properties and actions about something specific\n",
    "\n",
    "Example: \n",
    "- object: data frame\n",
    "- propoerties: number of rows; names of columns; data created\n",
    "- actions: selecting a row, adding a column \n",
    "\n",
    "A **variable** is a name we give a specific object, and the same object can be referenced by different variables. \n",
    "\n",
    "Example:\n",
    "- The Sun (star at center of solar system) = Object\n",
    "- sol = spanish word for Sun = Variable\n",
    "- soleil = Sun in french = another Variable\n",
    "\n",
    "\n",
    "In practice, use the object and variable interchangeably :)"
   ]
  },
  {
   "cell_type": "markdown",
   "id": "6177021c-6d86-42ac-9ea0-23d571564607",
   "metadata": {},
   "source": [
    "# Types \n",
    "\n",
    "Each object in Python has a type. \n",
    "\n",
    "**type** = what kind of object it is \n",
    "- can also call it the **class** of the object\n",
    "\n",
    "We can see the type/class of object by using teh `type` function:"
   ]
  },
  {
   "cell_type": "code",
   "execution_count": 10,
   "id": "84cd7359-1f01-4b96-a905-ee740b14ce1e",
   "metadata": {
    "tags": []
   },
   "outputs": [
    {
     "name": "stdout",
     "output_type": "stream",
     "text": [
      "[[1 1 2]\n",
      " [3 5 8]]\n"
     ]
    },
    {
     "data": {
      "text/plain": [
       "numpy.ndarray"
      ]
     },
     "execution_count": 10,
     "metadata": {},
     "output_type": "execute_result"
    }
   ],
   "source": [
    "print(a)\n",
    "\n",
    "# will return the type is an np.array\n",
    "type(a)"
   ]
  },
  {
   "cell_type": "markdown",
   "id": "68d362ab-9f41-440d-83cb-cd405cbc4ab8",
   "metadata": {},
   "source": [
    "The `numpy.ndarray` is the core object/data type in the NumPy package. \n",
    "\n",
    "We can check the type of an entry in the array by indexing: "
   ]
  },
  {
   "cell_type": "code",
   "execution_count": 13,
   "id": "d3244fcf-2a13-40a3-a11f-9afaaf95a40d",
   "metadata": {
    "tags": []
   },
   "outputs": [
    {
     "name": "stdout",
     "output_type": "stream",
     "text": [
      "1\n"
     ]
    },
    {
     "data": {
      "text/plain": [
       "numpy.int64"
      ]
     },
     "execution_count": 13,
     "metadata": {},
     "output_type": "execute_result"
    }
   ],
   "source": [
    "# want to access the first element of the first row\n",
    "print(a[0][0])\n",
    "\n",
    "type(a[0][0])"
   ]
  },
  {
   "cell_type": "code",
   "execution_count": 17,
   "id": "827eff92-061c-4ab3-9c34-84f6c26b20bd",
   "metadata": {
    "tags": []
   },
   "outputs": [
    {
     "name": "stdout",
     "output_type": "stream",
     "text": [
      "5\n",
      "5\n"
     ]
    }
   ],
   "source": [
    "# access the number 5 in the array a\n",
    "print(a[1][1])\n",
    "\n",
    "# or\n",
    "\n",
    "print(a[1, 1])"
   ]
  },
  {
   "cell_type": "markdown",
   "id": "121e2f7e-4923-4dd8-88ef-f9af9f69dd62",
   "metadata": {},
   "source": [
    "# Functions \n",
    "\n",
    "`print` was our example of Python function!\n",
    "\n",
    "A **function**:\n",
    "- take in a set of **arguments**, separated by commas, and \n",
    "- use those arguments to produce some **outputs**\n",
    "\n",
    "argument = parameter\n",
    "- you might see argument more often in documentation\n",
    "\n",
    "Ask information about a function by executing `?` follwed by function name:\n",
    "\n"
   ]
  },
  {
   "cell_type": "code",
   "execution_count": 18,
   "id": "874bf62f-2b29-48ec-b28e-e3f27556b597",
   "metadata": {
    "tags": []
   },
   "outputs": [
    {
     "data": {
      "text/plain": [
       "\u001b[0;31mDocstring:\u001b[0m\n",
       "print(value, ..., sep=' ', end='\\n', file=sys.stdout, flush=False)\n",
       "\n",
       "Prints the values to a stream, or to sys.stdout by default.\n",
       "Optional keyword arguments:\n",
       "file:  a file-like object (stream); defaults to the current sys.stdout.\n",
       "sep:   string inserted between values, default a space.\n",
       "end:   string appended after the last value, default a newline.\n",
       "flush: whether to forcibly flush the stream.\n",
       "\u001b[0;31mType:\u001b[0m      builtin_function_or_method\n"
      ]
     },
     "metadata": {},
     "output_type": "display_data"
    }
   ],
   "source": [
    "?print"
   ]
  },
  {
   "cell_type": "markdown",
   "id": "61a5d9d5-079b-4ade-91b4-4abed8cc24ff",
   "metadata": {},
   "source": [
    "- first line: function showing all of its arguments in parenthesis \n",
    "- then a short description about what function does \n",
    "- list of arguments and a brief explanation\n",
    "\n",
    "Different types of arguments inside the parenthesis:\n",
    "\n",
    "- **non-optional arguments**: arguments you need to sepcify for the function to do something \n",
    "- **optional arguments**: arguments that are pre-filled with a default value in the function; but can be overwritten \n",
    "\n",
    "`optional argument = default_value`"
   ]
  },
  {
   "cell_type": "code",
   "execution_count": 19,
   "id": "f29f4d6a-b898-4c5e-af3b-8fc7648f4e77",
   "metadata": {
    "tags": []
   },
   "outputs": [
    {
     "name": "stdout",
     "output_type": "stream",
     "text": [
      "changing the default end argument of the print function:)"
     ]
    }
   ],
   "source": [
    "print('changing the default end argument of the print function', end = ':)')"
   ]
  },
  {
   "cell_type": "markdown",
   "id": "ed11021e-cc7a-41d4-8ce3-b5cb6501f541",
   "metadata": {},
   "source": [
    "# Attributes and Methods\n",
    "\n",
    "An object in Python has attributes and methods.\n",
    "\n",
    "- **attribute**: a property of an object, a piece o info about it.  \n",
    "- **method**: a procedure associated with an object. an action where main ingredient is the object itself. Things your object does.\n",
    "\n",
    "- Example: object = cat\n",
    "    - attributes: name, color, age, weight\n",
    "    - method: meow(), nap()\n",
    "- Example: object = fish\n",
    "    - attribute: weight, scale_color, species\n",
    "    - method: swim(), eat(), jump()\n",
    "\n",
    "Access a variables attributes and methods by adding a period `.` at the end of the variable's name.\n",
    "\n",
    "`variable.variable_method()` \n",
    "\n",
    "or\n",
    "\n",
    "`variable.variable_attribute`\n",
    "\n",
    "Examples: \n",
    "\n",
    "Methods and attributes of NumPy arrays:"
   ]
  },
  {
   "cell_type": "code",
   "execution_count": 1,
   "id": "d82a122d-0cbe-461f-acb7-145c88242647",
   "metadata": {
    "tags": []
   },
   "outputs": [],
   "source": [
    "import numpy as np"
   ]
  },
  {
   "cell_type": "code",
   "execution_count": 3,
   "id": "58bca23e-502d-4211-9562-806ed8c26a6e",
   "metadata": {
    "tags": []
   },
   "outputs": [],
   "source": [
    "# define a 3x3 array\n",
    "var = np.array( [ [1,2,3], [4,5,6], [7,8,9] ] )\n",
    "var"
   ]
  },
  {
   "cell_type": "code",
   "execution_count": 4,
   "id": "974307ca-003b-4846-b29c-670d34a35058",
   "metadata": {
    "tags": []
   },
   "outputs": [],
   "source": [
    "# shape: attribute telling us # of elements in each dimension of the array\n",
    "var.shape"
   ]
  },
  {
   "cell_type": "code",
   "execution_count": 5,
   "id": "d89b4253-a113-493b-92f7-c7e504bb06a7",
   "metadata": {
    "tags": []
   },
   "outputs": [],
   "source": [
    "type(var.shape)"
   ]
  },
  {
   "cell_type": "code",
   "execution_count": 7,
   "id": "3d01328c-c79d-4e20-afd2-01a85b525b96",
   "metadata": {
    "tags": []
   },
   "outputs": [],
   "source": [
    "# ndim is a n attribute holding the number of array dimensions\n",
    "var.ndim"
   ]
  },
  {
   "cell_type": "code",
   "execution_count": null,
   "id": "1b8dceaf-58da-44c2-97b8-4e150634a8c5",
   "metadata": {
    "tags": []
   },
   "outputs": [],
   "source": [
    "type(var.ndim)"
   ]
  },
  {
   "cell_type": "markdown",
   "id": "ca6ad1e1-e214-4a24-ab8c-9f03ba219de9",
   "metadata": {
    "tags": []
   },
   "source": [
    "Notice that attributes can have many different data types.\n",
    "\n",
    "Examples of methods:"
   ]
  },
  {
   "cell_type": "code",
   "execution_count": 9,
   "id": "2f60c0b0-64f5-42df-b3a3-74442bc0c321",
   "metadata": {
    "tags": []
   },
   "outputs": [],
   "source": [
    "# min method for array\n",
    "# return minimum value in the array\n",
    "var.min()"
   ]
  },
  {
   "cell_type": "code",
   "execution_count": 12,
   "id": "767a4430-6168-4bf2-8448-901e74f92c68",
   "metadata": {
    "tags": []
   },
   "outputs": [],
   "source": [
    "type(var.min)"
   ]
  },
  {
   "cell_type": "markdown",
   "id": "79ddafee-e6a2-4eb2-aea2-361ac96b7942",
   "metadata": {
    "tags": []
   },
   "source": [
    "# R & Python\n",
    "\n",
    "Python:\n",
    "`var.min()`\n",
    "\n",
    "R:\n",
    "- doesn't use meethods within an object\n",
    "- functions in R are extrinsic to (outside of) the objects they are acting on \n",
    "\n",
    "        Example: recreate getting min value in an array\n",
    "        \n",
    "            - in R there would be 2 separate items\n",
    "            \n",
    "            ```\n",
    "            # this is R code\n",
    "            var <- array(c(1, 4, 7, 2, 5, 8, 3, 6, 9)), dim = c(3, 3)\n",
    "            min(var)\n",
    "            ```\n",
    "- Using pipe operator >%> in R tidyverse is closer to the `.` in Python. It is passing `var` to the `min()` function\n",
    "\n",
    "            # this is R code\n",
    "            var <- array(c(1, 4, 7, 2, 5, 8, 3, 6, 9)), dim = c(3, 3)\n",
    "            var >%> min()\n",
    "            ```"
   ]
  },
  {
   "cell_type": "markdown",
   "id": "f66771bf-0ca5-45b4-a322-902106518669",
   "metadata": {
    "tags": []
   },
   "source": []
  }
 ],
 "metadata": {
  "kernelspec": {
   "display_name": "Anaconda 3 (Base)",
   "language": "python",
   "name": "base"
  },
  "language_info": {
   "codemirror_mode": {
    "name": "ipython",
    "version": 3
   },
   "file_extension": ".py",
   "mimetype": "text/x-python",
   "name": "python",
   "nbconvert_exporter": "python",
   "pygments_lexer": "ipython3",
   "version": "3.9.13"
  }
 },
 "nbformat": 4,
 "nbformat_minor": 5
}
